{
 "cells": [
  {
   "cell_type": "code",
   "execution_count": 9,
   "id": "f664aaaa-9b6f-4b8b-b944-d66fb81a644e",
   "metadata": {},
   "outputs": [
    {
     "name": "stderr",
     "output_type": "stream",
     "text": [
      "\n",
      "Attaching package: ‘dplyr’\n",
      "\n",
      "\n",
      "The following objects are masked from ‘package:stats’:\n",
      "\n",
      "    filter, lag\n",
      "\n",
      "\n",
      "The following objects are masked from ‘package:base’:\n",
      "\n",
      "    intersect, setdiff, setequal, union\n",
      "\n",
      "\n"
     ]
    }
   ],
   "source": [
    "library(openxlsx)\n",
    "library(readxl)\n",
    "library(tidyr)\n",
    "library(dplyr)"
   ]
  },
  {
   "cell_type": "code",
   "execution_count": 10,
   "id": "910b105b-895e-477c-970e-521d435526b6",
   "metadata": {},
   "outputs": [],
   "source": [
    "dir.create('./data/in', recursive = T, showWarnings = F)\n",
    "dir.create('./data/outs', recursive = T, showWarnings = F)"
   ]
  },
  {
   "cell_type": "markdown",
   "id": "ce211808-a87a-4b96-8c3b-d67f439e3a4e",
   "metadata": {},
   "source": [
    "# Reading"
   ]
  },
  {
   "cell_type": "markdown",
   "id": "d1bf9a30-eb7d-48f9-9dd3-4773daf4884c",
   "metadata": {},
   "source": [
    "# single sheets\n",
    "Huang, D., Zhu, X., Ye, S. et al. Tumour circular RNAs elicit anti-tumour immunity by encoding cryptic peptides. Nature 625, 593–602 (2024). https://doi.org/10.1038/s41586-023-06834-7"
   ]
  },
  {
   "cell_type": "code",
   "execution_count": 12,
   "id": "7bc0021d-a593-4ebd-ab63-36108de22455",
   "metadata": {},
   "outputs": [
    {
     "data": {
      "text/html": [
       "<table class=\"dataframe\">\n",
       "<caption>A tibble: 2 × 6</caption>\n",
       "<thead>\n",
       "\t<tr><th scope=col>Patient No.</th><th scope=col>Sequence1</th><th scope=col>Source2</th><th scope=col>Gene type3</th><th scope=col>Peptide intensity4</th><th scope=col>Predicted percentile rank5</th></tr>\n",
       "\t<tr><th scope=col>&lt;chr&gt;</th><th scope=col>&lt;chr&gt;</th><th scope=col>&lt;chr&gt;</th><th scope=col>&lt;chr&gt;</th><th scope=col>&lt;dbl&gt;</th><th scope=col>&lt;dbl&gt;</th></tr>\n",
       "</thead>\n",
       "<tbody>\n",
       "\t<tr><td>P2</td><td>LLEGEETR</td><td>NEFL</td><td>mRNA</td><td>1713818.8</td><td>19</td></tr>\n",
       "\t<tr><td>NA</td><td>YEEEVLSR</td><td>NEFL</td><td>mRNA</td><td> 490323.8</td><td>21</td></tr>\n",
       "</tbody>\n",
       "</table>\n"
      ],
      "text/latex": [
       "A tibble: 2 × 6\n",
       "\\begin{tabular}{llllll}\n",
       " Patient No. & Sequence1 & Source2 & Gene type3 & Peptide intensity4 & Predicted percentile rank5\\\\\n",
       " <chr> & <chr> & <chr> & <chr> & <dbl> & <dbl>\\\\\n",
       "\\hline\n",
       "\t P2 & LLEGEETR & NEFL & mRNA & 1713818.8 & 19\\\\\n",
       "\t NA & YEEEVLSR & NEFL & mRNA &  490323.8 & 21\\\\\n",
       "\\end{tabular}\n"
      ],
      "text/markdown": [
       "\n",
       "A tibble: 2 × 6\n",
       "\n",
       "| Patient No. &lt;chr&gt; | Sequence1 &lt;chr&gt; | Source2 &lt;chr&gt; | Gene type3 &lt;chr&gt; | Peptide intensity4 &lt;dbl&gt; | Predicted percentile rank5 &lt;dbl&gt; |\n",
       "|---|---|---|---|---|---|\n",
       "| P2 | LLEGEETR | NEFL | mRNA | 1713818.8 | 19 |\n",
       "| NA | YEEEVLSR | NEFL | mRNA |  490323.8 | 21 |\n",
       "\n"
      ],
      "text/plain": [
       "  Patient No. Sequence1 Source2 Gene type3 Peptide intensity4\n",
       "1 P2          LLEGEETR  NEFL    mRNA       1713818.8         \n",
       "2 NA          YEEEVLSR  NEFL    mRNA        490323.8         \n",
       "  Predicted percentile rank5\n",
       "1 19                        \n",
       "2 21                        "
      ]
     },
     "metadata": {},
     "output_type": "display_data"
    },
    {
     "data": {
      "text/html": [
       "<table class=\"dataframe\">\n",
       "<caption>A tibble: 2 × 6</caption>\n",
       "<thead>\n",
       "\t<tr><th scope=col>Patient No.</th><th scope=col>Sequence1</th><th scope=col>Source2</th><th scope=col>Gene type3</th><th scope=col>Peptide intensity4</th><th scope=col>Predicted percentile rank5</th></tr>\n",
       "\t<tr><th scope=col>&lt;chr&gt;</th><th scope=col>&lt;chr&gt;</th><th scope=col>&lt;chr&gt;</th><th scope=col>&lt;chr&gt;</th><th scope=col>&lt;dbl&gt;</th><th scope=col>&lt;dbl&gt;</th></tr>\n",
       "</thead>\n",
       "<tbody>\n",
       "\t<tr><td>NA                                                                                                                                                                                                                                                                                                                                                                                                                                                                                                                                                                                                                                                                                                                                                                                                                                                                                                                                                                                             </td><td>SGVSLAALKK</td><td>H1-3</td><td>mRNA</td><td>10385236</td><td>7.9</td></tr>\n",
       "\t<tr><td><span style=white-space:pre-wrap>1 The peptide sequences detected in HLA-I peptidome, determined by HLA immunoprecipitation followed by mass spectrometry (MS).\r\n",
       "2The MS results were matched with the UniProt database, the whole-exome sequencing (WES) as well as the RNA sequencing (RNA-seq) data of the breast tumour and their adjacent normal breast samples, respectively. The criteria were defined below:  (1) Higher expression in breast tumour samples than in the paired normal breast tissues (read count &gt; 5, fold change ³ 2). (2)  Somatic single-nucleotide variant (SNV) and Indel were discovered according to Genome Analysis Toolkit (GATK, https://gatk.broadinstitute.org/hc/en-us) workflow.\r\n",
       "3 The peptide intensities of HLA-I peptides determined by MS indicate the abundance of peptides presented on HLA-I.4 The MHC-I binding predictions were made using the IEDB analysis resource NetMHCpan (ver. 4.1) tool and the threshold for binding was set as rank &lt; 2% to include weak binders.</span></td><td><span style=white-space:pre-wrap>NA        </span></td><td><span style=white-space:pre-wrap>NA  </span></td><td><span style=white-space:pre-wrap>NA  </span></td><td><span style=white-space:pre-wrap>      NA</span></td><td> NA</td></tr>\n",
       "</tbody>\n",
       "</table>\n"
      ],
      "text/latex": [
       "A tibble: 2 × 6\n",
       "\\begin{tabular}{llllll}\n",
       " Patient No. & Sequence1 & Source2 & Gene type3 & Peptide intensity4 & Predicted percentile rank5\\\\\n",
       " <chr> & <chr> & <chr> & <chr> & <dbl> & <dbl>\\\\\n",
       "\\hline\n",
       "\t NA                                                                                                                                                                                                                                                                                                                                                                                                                                                                                                                                                                                                                                                                                                                                                                                                                                                                                                                                                                                              & SGVSLAALKK & H1-3 & mRNA & 10385236 & 7.9\\\\\n",
       "\t 1 The peptide sequences detected in HLA-I peptidome, determined by HLA immunoprecipitation followed by mass spectrometry (MS).\r\n",
       "2The MS results were matched with the UniProt database, the whole-exome sequencing (WES) as well as the RNA sequencing (RNA-seq) data of the breast tumour and their adjacent normal breast samples, respectively. The criteria were defined below:  (1) Higher expression in breast tumour samples than in the paired normal breast tissues (read count > 5, fold change ³ 2). (2)  Somatic single-nucleotide variant (SNV) and Indel were discovered according to Genome Analysis Toolkit (GATK, https://gatk.broadinstitute.org/hc/en-us) workflow.\r\n",
       "3 The peptide intensities of HLA-I peptides determined by MS indicate the abundance of peptides presented on HLA-I.4 The MHC-I binding predictions were made using the IEDB analysis resource NetMHCpan (ver. 4.1) tool and the threshold for binding was set as rank < 2\\% to include weak binders. & NA         & NA   & NA   &       NA &  NA\\\\\n",
       "\\end{tabular}\n"
      ],
      "text/markdown": [
       "\n",
       "A tibble: 2 × 6\n",
       "\n",
       "| Patient No. &lt;chr&gt; | Sequence1 &lt;chr&gt; | Source2 &lt;chr&gt; | Gene type3 &lt;chr&gt; | Peptide intensity4 &lt;dbl&gt; | Predicted percentile rank5 &lt;dbl&gt; |\n",
       "|---|---|---|---|---|---|\n",
       "| NA                                                                                                                                                                                                                                                                                                                                                                                                                                                                                                                                                                                                                                                                                                                                                                                                                                                                                                                                                                                              | SGVSLAALKK | H1-3 | mRNA | 10385236 | 7.9 |\n",
       "| 1 The peptide sequences detected in HLA-I peptidome, determined by HLA immunoprecipitation followed by mass spectrometry (MS).\r\n",
       "2The MS results were matched with the UniProt database, the whole-exome sequencing (WES) as well as the RNA sequencing (RNA-seq) data of the breast tumour and their adjacent normal breast samples, respectively. The criteria were defined below:  (1) Higher expression in breast tumour samples than in the paired normal breast tissues (read count &gt; 5, fold change ³ 2). (2)  Somatic single-nucleotide variant (SNV) and Indel were discovered according to Genome Analysis Toolkit (GATK, https://gatk.broadinstitute.org/hc/en-us) workflow.\r\n",
       "3 The peptide intensities of HLA-I peptides determined by MS indicate the abundance of peptides presented on HLA-I.4 The MHC-I binding predictions were made using the IEDB analysis resource NetMHCpan (ver. 4.1) tool and the threshold for binding was set as rank &lt; 2% to include weak binders. | NA         | NA   | NA   |       NA |  NA |\n",
       "\n"
      ],
      "text/plain": [
       "  Patient No.                                                                                                                                                                                                                                                                                                                                                                                                                                                                                                                                                                                                                                                                                                                                                                                                                                                                                                                                                                                    \n",
       "1 NA                                                                                                                                                                                                                                                                                                                                                                                                                                                                                                                                                                                                                                                                                                                                                                                                                                                                                                                                                                                             \n",
       "2 1 The peptide sequences detected in HLA-I peptidome, determined by HLA immunoprecipitation followed by mass spectrometry (MS).\\r\\n2The MS results were matched with the UniProt database, the whole-exome sequencing (WES) as well as the RNA sequencing (RNA-seq) data of the breast tumour and their adjacent normal breast samples, respectively. The criteria were defined below:  (1) Higher expression in breast tumour samples than in the paired normal breast tissues (read count > 5, fold change ³ 2). (2)  Somatic single-nucleotide variant (SNV) and Indel were discovered according to Genome Analysis Toolkit (GATK, https://gatk.broadinstitute.org/hc/en-us) workflow.\\r\\n3 The peptide intensities of HLA-I peptides determined by MS indicate the abundance of peptides presented on HLA-I.4 The MHC-I binding predictions were made using the IEDB analysis resource NetMHCpan (ver. 4.1) tool and the threshold for binding was set as rank < 2% to include weak binders.\n",
       "  Sequence1  Source2 Gene type3 Peptide intensity4 Predicted percentile rank5\n",
       "1 SGVSLAALKK H1-3    mRNA       10385236           7.9                       \n",
       "2 NA         NA      NA               NA            NA                       "
      ]
     },
     "metadata": {},
     "output_type": "display_data"
    }
   ],
   "source": [
    "canonical_antigens <- read_xlsx('./data/in/canonical_antigens_breast_cancer.xlsx', skip = 1, trim_ws = T)\n",
    "head(canonical_antigens, 2)\n",
    "tail(canonical_antigens, 2)"
   ]
  },
  {
   "cell_type": "code",
   "execution_count": 4,
   "id": "f8deb2c4-155b-45e4-8d10-67935e93c8d1",
   "metadata": {},
   "outputs": [
    {
     "data": {
      "text/html": [
       "<style>\n",
       ".list-inline {list-style: none; margin:0; padding: 0}\n",
       ".list-inline>li {display: inline-block}\n",
       ".list-inline>li:not(:last-child)::after {content: \"\\00b7\"; padding: 0 .5ex}\n",
       "</style>\n",
       "<ol class=list-inline><li>241</li><li>6</li></ol>\n"
      ],
      "text/latex": [
       "\\begin{enumerate*}\n",
       "\\item 241\n",
       "\\item 6\n",
       "\\end{enumerate*}\n"
      ],
      "text/markdown": [
       "1. 241\n",
       "2. 6\n",
       "\n",
       "\n"
      ],
      "text/plain": [
       "[1] 241   6"
      ]
     },
     "metadata": {},
     "output_type": "display_data"
    }
   ],
   "source": [
    "dim(canonical_antigens)"
   ]
  },
  {
   "cell_type": "code",
   "execution_count": 13,
   "id": "2fe4f25b-113c-4b9a-a0fd-f0c91d967c79",
   "metadata": {},
   "outputs": [
    {
     "data": {
      "text/html": [
       "<table class=\"dataframe\">\n",
       "<caption>A tibble: 2 × 6</caption>\n",
       "<thead>\n",
       "\t<tr><th scope=col>Patient No.</th><th scope=col>Sequence1</th><th scope=col>Source2</th><th scope=col>Gene type3</th><th scope=col>Peptide intensity4</th><th scope=col>Predicted percentile rank5</th></tr>\n",
       "\t<tr><th scope=col>&lt;chr&gt;</th><th scope=col>&lt;chr&gt;</th><th scope=col>&lt;chr&gt;</th><th scope=col>&lt;chr&gt;</th><th scope=col>&lt;dbl&gt;</th><th scope=col>&lt;dbl&gt;</th></tr>\n",
       "</thead>\n",
       "<tbody>\n",
       "\t<tr><td>NA</td><td>CCTESLVNR </td><td>ALB </td><td>mRNA</td><td>  906300.3</td><td>1.5</td></tr>\n",
       "\t<tr><td>NA</td><td>SGVSLAALKK</td><td>H1-3</td><td>mRNA</td><td>10385236.0</td><td>7.9</td></tr>\n",
       "</tbody>\n",
       "</table>\n"
      ],
      "text/latex": [
       "A tibble: 2 × 6\n",
       "\\begin{tabular}{llllll}\n",
       " Patient No. & Sequence1 & Source2 & Gene type3 & Peptide intensity4 & Predicted percentile rank5\\\\\n",
       " <chr> & <chr> & <chr> & <chr> & <dbl> & <dbl>\\\\\n",
       "\\hline\n",
       "\t NA & CCTESLVNR  & ALB  & mRNA &   906300.3 & 1.5\\\\\n",
       "\t NA & SGVSLAALKK & H1-3 & mRNA & 10385236.0 & 7.9\\\\\n",
       "\\end{tabular}\n"
      ],
      "text/markdown": [
       "\n",
       "A tibble: 2 × 6\n",
       "\n",
       "| Patient No. &lt;chr&gt; | Sequence1 &lt;chr&gt; | Source2 &lt;chr&gt; | Gene type3 &lt;chr&gt; | Peptide intensity4 &lt;dbl&gt; | Predicted percentile rank5 &lt;dbl&gt; |\n",
       "|---|---|---|---|---|---|\n",
       "| NA | CCTESLVNR  | ALB  | mRNA |   906300.3 | 1.5 |\n",
       "| NA | SGVSLAALKK | H1-3 | mRNA | 10385236.0 | 7.9 |\n",
       "\n"
      ],
      "text/plain": [
       "  Patient No. Sequence1  Source2 Gene type3 Peptide intensity4\n",
       "1 NA          CCTESLVNR  ALB     mRNA         906300.3        \n",
       "2 NA          SGVSLAALKK H1-3    mRNA       10385236.0        \n",
       "  Predicted percentile rank5\n",
       "1 1.5                       \n",
       "2 7.9                       "
      ]
     },
     "metadata": {},
     "output_type": "display_data"
    }
   ],
   "source": [
    "# clean the dat\n",
    "canonical_antigens <- canonical_antigens[1:240, , drop = F]\n",
    "tail(canonical_antigens, 2)"
   ]
  },
  {
   "cell_type": "code",
   "execution_count": 14,
   "id": "ecb44852-41fe-4ce7-92fd-defb3af143ec",
   "metadata": {},
   "outputs": [
    {
     "data": {
      "text/html": [
       "<table class=\"dataframe\">\n",
       "<caption>A tibble: 2 × 6</caption>\n",
       "<thead>\n",
       "\t<tr><th scope=col>Patient No.</th><th scope=col>Sequence1</th><th scope=col>Source2</th><th scope=col>Gene type3</th><th scope=col>Peptide intensity4</th><th scope=col>Predicted percentile rank5</th></tr>\n",
       "\t<tr><th scope=col>&lt;chr&gt;</th><th scope=col>&lt;chr&gt;</th><th scope=col>&lt;chr&gt;</th><th scope=col>&lt;chr&gt;</th><th scope=col>&lt;dbl&gt;</th><th scope=col>&lt;dbl&gt;</th></tr>\n",
       "</thead>\n",
       "<tbody>\n",
       "\t<tr><td>P2</td><td>LLEGEETR</td><td>NEFL</td><td>mRNA</td><td>1713818.8</td><td>19</td></tr>\n",
       "\t<tr><td>P2</td><td>YEEEVLSR</td><td>NEFL</td><td>mRNA</td><td> 490323.8</td><td>21</td></tr>\n",
       "</tbody>\n",
       "</table>\n"
      ],
      "text/latex": [
       "A tibble: 2 × 6\n",
       "\\begin{tabular}{llllll}\n",
       " Patient No. & Sequence1 & Source2 & Gene type3 & Peptide intensity4 & Predicted percentile rank5\\\\\n",
       " <chr> & <chr> & <chr> & <chr> & <dbl> & <dbl>\\\\\n",
       "\\hline\n",
       "\t P2 & LLEGEETR & NEFL & mRNA & 1713818.8 & 19\\\\\n",
       "\t P2 & YEEEVLSR & NEFL & mRNA &  490323.8 & 21\\\\\n",
       "\\end{tabular}\n"
      ],
      "text/markdown": [
       "\n",
       "A tibble: 2 × 6\n",
       "\n",
       "| Patient No. &lt;chr&gt; | Sequence1 &lt;chr&gt; | Source2 &lt;chr&gt; | Gene type3 &lt;chr&gt; | Peptide intensity4 &lt;dbl&gt; | Predicted percentile rank5 &lt;dbl&gt; |\n",
       "|---|---|---|---|---|---|\n",
       "| P2 | LLEGEETR | NEFL | mRNA | 1713818.8 | 19 |\n",
       "| P2 | YEEEVLSR | NEFL | mRNA |  490323.8 | 21 |\n",
       "\n"
      ],
      "text/plain": [
       "  Patient No. Sequence1 Source2 Gene type3 Peptide intensity4\n",
       "1 P2          LLEGEETR  NEFL    mRNA       1713818.8         \n",
       "2 P2          YEEEVLSR  NEFL    mRNA        490323.8         \n",
       "  Predicted percentile rank5\n",
       "1 19                        \n",
       "2 21                        "
      ]
     },
     "metadata": {},
     "output_type": "display_data"
    },
    {
     "data": {
      "text/html": [
       "<table class=\"dataframe\">\n",
       "<caption>A tibble: 2 × 6</caption>\n",
       "<thead>\n",
       "\t<tr><th scope=col>Patient No.</th><th scope=col>Sequence1</th><th scope=col>Source2</th><th scope=col>Gene type3</th><th scope=col>Peptide intensity4</th><th scope=col>Predicted percentile rank5</th></tr>\n",
       "\t<tr><th scope=col>&lt;chr&gt;</th><th scope=col>&lt;chr&gt;</th><th scope=col>&lt;chr&gt;</th><th scope=col>&lt;chr&gt;</th><th scope=col>&lt;dbl&gt;</th><th scope=col>&lt;dbl&gt;</th></tr>\n",
       "</thead>\n",
       "<tbody>\n",
       "\t<tr><td>P10</td><td>CCTESLVNR </td><td>ALB </td><td>mRNA</td><td>  906300.3</td><td>1.5</td></tr>\n",
       "\t<tr><td>P10</td><td>SGVSLAALKK</td><td>H1-3</td><td>mRNA</td><td>10385236.0</td><td>7.9</td></tr>\n",
       "</tbody>\n",
       "</table>\n"
      ],
      "text/latex": [
       "A tibble: 2 × 6\n",
       "\\begin{tabular}{llllll}\n",
       " Patient No. & Sequence1 & Source2 & Gene type3 & Peptide intensity4 & Predicted percentile rank5\\\\\n",
       " <chr> & <chr> & <chr> & <chr> & <dbl> & <dbl>\\\\\n",
       "\\hline\n",
       "\t P10 & CCTESLVNR  & ALB  & mRNA &   906300.3 & 1.5\\\\\n",
       "\t P10 & SGVSLAALKK & H1-3 & mRNA & 10385236.0 & 7.9\\\\\n",
       "\\end{tabular}\n"
      ],
      "text/markdown": [
       "\n",
       "A tibble: 2 × 6\n",
       "\n",
       "| Patient No. &lt;chr&gt; | Sequence1 &lt;chr&gt; | Source2 &lt;chr&gt; | Gene type3 &lt;chr&gt; | Peptide intensity4 &lt;dbl&gt; | Predicted percentile rank5 &lt;dbl&gt; |\n",
       "|---|---|---|---|---|---|\n",
       "| P10 | CCTESLVNR  | ALB  | mRNA |   906300.3 | 1.5 |\n",
       "| P10 | SGVSLAALKK | H1-3 | mRNA | 10385236.0 | 7.9 |\n",
       "\n"
      ],
      "text/plain": [
       "  Patient No. Sequence1  Source2 Gene type3 Peptide intensity4\n",
       "1 P10         CCTESLVNR  ALB     mRNA         906300.3        \n",
       "2 P10         SGVSLAALKK H1-3    mRNA       10385236.0        \n",
       "  Predicted percentile rank5\n",
       "1 1.5                       \n",
       "2 7.9                       "
      ]
     },
     "metadata": {},
     "output_type": "display_data"
    }
   ],
   "source": [
    "# Change the na to its previous patient No.\n",
    "canonical_antigens <- canonical_antigens %>% fill('Patient No.', .direction = 'down')\n",
    "head(canonical_antigens, 2)\n",
    "tail(canonical_antigens, 2)"
   ]
  },
  {
   "cell_type": "code",
   "execution_count": 19,
   "id": "36a87f59-1a89-4d5b-8c25-93fa62738ae7",
   "metadata": {},
   "outputs": [
    {
     "data": {
      "text/html": [
       "<table class=\"dataframe\">\n",
       "<caption>A tibble: 2 × 6</caption>\n",
       "<thead>\n",
       "\t<tr><th scope=col>Patient No.</th><th scope=col>Sequence1</th><th scope=col>Source2</th><th scope=col>Gene type</th><th scope=col>Peptide intensity3</th><th scope=col>Predicted percentile rank4</th></tr>\n",
       "\t<tr><th scope=col>&lt;chr&gt;</th><th scope=col>&lt;chr&gt;</th><th scope=col>&lt;chr&gt;</th><th scope=col>&lt;chr&gt;</th><th scope=col>&lt;dbl&gt;</th><th scope=col>&lt;dbl&gt;</th></tr>\n",
       "</thead>\n",
       "<tbody>\n",
       "\t<tr><td>P1</td><td>RTAHYGTGR  </td><td>circFAM53B</td><td>circRNA</td><td>18200004.5</td><td>0.19</td></tr>\n",
       "\t<tr><td>NA</td><td>LSQNNFALGYK</td><td>circVDAC3 </td><td>circRNA</td><td>  721479.4</td><td>1.50</td></tr>\n",
       "</tbody>\n",
       "</table>\n"
      ],
      "text/latex": [
       "A tibble: 2 × 6\n",
       "\\begin{tabular}{llllll}\n",
       " Patient No. & Sequence1 & Source2 & Gene type & Peptide intensity3 & Predicted percentile rank4\\\\\n",
       " <chr> & <chr> & <chr> & <chr> & <dbl> & <dbl>\\\\\n",
       "\\hline\n",
       "\t P1 & RTAHYGTGR   & circFAM53B & circRNA & 18200004.5 & 0.19\\\\\n",
       "\t NA & LSQNNFALGYK & circVDAC3  & circRNA &   721479.4 & 1.50\\\\\n",
       "\\end{tabular}\n"
      ],
      "text/markdown": [
       "\n",
       "A tibble: 2 × 6\n",
       "\n",
       "| Patient No. &lt;chr&gt; | Sequence1 &lt;chr&gt; | Source2 &lt;chr&gt; | Gene type &lt;chr&gt; | Peptide intensity3 &lt;dbl&gt; | Predicted percentile rank4 &lt;dbl&gt; |\n",
       "|---|---|---|---|---|---|\n",
       "| P1 | RTAHYGTGR   | circFAM53B | circRNA | 18200004.5 | 0.19 |\n",
       "| NA | LSQNNFALGYK | circVDAC3  | circRNA |   721479.4 | 1.50 |\n",
       "\n"
      ],
      "text/plain": [
       "  Patient No. Sequence1   Source2    Gene type Peptide intensity3\n",
       "1 P1          RTAHYGTGR   circFAM53B circRNA   18200004.5        \n",
       "2 NA          LSQNNFALGYK circVDAC3  circRNA     721479.4        \n",
       "  Predicted percentile rank4\n",
       "1 0.19                      \n",
       "2 1.50                      "
      ]
     },
     "metadata": {},
     "output_type": "display_data"
    },
    {
     "data": {
      "text/html": [
       "<table class=\"dataframe\">\n",
       "<caption>A tibble: 2 × 6</caption>\n",
       "<thead>\n",
       "\t<tr><th scope=col>Patient No.</th><th scope=col>Sequence1</th><th scope=col>Source2</th><th scope=col>Gene type</th><th scope=col>Peptide intensity3</th><th scope=col>Predicted percentile rank4</th></tr>\n",
       "\t<tr><th scope=col>&lt;chr&gt;</th><th scope=col>&lt;chr&gt;</th><th scope=col>&lt;chr&gt;</th><th scope=col>&lt;chr&gt;</th><th scope=col>&lt;dbl&gt;</th><th scope=col>&lt;dbl&gt;</th></tr>\n",
       "</thead>\n",
       "<tbody>\n",
       "\t<tr><td>P12                                                                                                                                                                                                                                                                                                                                                                                                                                                                                                                                                                                                                                                                                                                                                                                                                                                                                                                                                            </td><td>RQIGSGAEK</td><td>circPRRC2B</td><td>circRNA</td><td>66511858</td><td> 4</td></tr>\n",
       "\t<tr><td><span style=white-space:pre-wrap>1 The peptide sequences detected in HLA-I peptidome, determined by HLA immunoprecipitation followed by mass spectrometry (MS).\r\n",
       "2 The MS results were matched with the circRNA profiles obtained from ribosomal RNA-depleted RNA-sequencing (rRNA-depleted-RNA-Seq), as defined below:  (1) CircRNA read count in the tumour samples &gt; 5. (2) Higher expression in breast tumour samples than in the paired normal breast tissues  (log2fold change ³ 1).  (3) CircRNAs have conserved ORF and the length of ORF &lt; the length of circRNA. (4) The neo-peptides formed by the ORF of circRNAs were distinct from the linear counterparts (neo-ORF).\r\n",
       "3 The peptide intensities of HLA-I peptides determined by MS indicate the abundance of peptides presented on HLA-I.\r\n",
       "4 The MHC-I binding predictions were made using the IEDB analysis resource NetMHCpan (ver. 4.1) tool and the threshold for binding was set as rank &lt; 2% to include weak binders.</span></td><td><span style=white-space:pre-wrap>NA       </span></td><td><span style=white-space:pre-wrap>NA        </span></td><td><span style=white-space:pre-wrap>NA     </span></td><td><span style=white-space:pre-wrap>      NA</span></td><td>NA</td></tr>\n",
       "</tbody>\n",
       "</table>\n"
      ],
      "text/latex": [
       "A tibble: 2 × 6\n",
       "\\begin{tabular}{llllll}\n",
       " Patient No. & Sequence1 & Source2 & Gene type & Peptide intensity3 & Predicted percentile rank4\\\\\n",
       " <chr> & <chr> & <chr> & <chr> & <dbl> & <dbl>\\\\\n",
       "\\hline\n",
       "\t P12                                                                                                                                                                                                                                                                                                                                                                                                                                                                                                                                                                                                                                                                                                                                                                                                                                                                                                                                                             & RQIGSGAEK & circPRRC2B & circRNA & 66511858 &  4\\\\\n",
       "\t 1 The peptide sequences detected in HLA-I peptidome, determined by HLA immunoprecipitation followed by mass spectrometry (MS).\r\n",
       "2 The MS results were matched with the circRNA profiles obtained from ribosomal RNA-depleted RNA-sequencing (rRNA-depleted-RNA-Seq), as defined below:  (1) CircRNA read count in the tumour samples > 5. (2) Higher expression in breast tumour samples than in the paired normal breast tissues  (log2fold change ³ 1).  (3) CircRNAs have conserved ORF and the length of ORF < the length of circRNA. (4) The neo-peptides formed by the ORF of circRNAs were distinct from the linear counterparts (neo-ORF).\r\n",
       "3 The peptide intensities of HLA-I peptides determined by MS indicate the abundance of peptides presented on HLA-I.\r\n",
       "4 The MHC-I binding predictions were made using the IEDB analysis resource NetMHCpan (ver. 4.1) tool and the threshold for binding was set as rank < 2\\% to include weak binders. & NA        & NA         & NA      &       NA & NA\\\\\n",
       "\\end{tabular}\n"
      ],
      "text/markdown": [
       "\n",
       "A tibble: 2 × 6\n",
       "\n",
       "| Patient No. &lt;chr&gt; | Sequence1 &lt;chr&gt; | Source2 &lt;chr&gt; | Gene type &lt;chr&gt; | Peptide intensity3 &lt;dbl&gt; | Predicted percentile rank4 &lt;dbl&gt; |\n",
       "|---|---|---|---|---|---|\n",
       "| P12                                                                                                                                                                                                                                                                                                                                                                                                                                                                                                                                                                                                                                                                                                                                                                                                                                                                                                                                                             | RQIGSGAEK | circPRRC2B | circRNA | 66511858 |  4 |\n",
       "| 1 The peptide sequences detected in HLA-I peptidome, determined by HLA immunoprecipitation followed by mass spectrometry (MS).\r\n",
       "2 The MS results were matched with the circRNA profiles obtained from ribosomal RNA-depleted RNA-sequencing (rRNA-depleted-RNA-Seq), as defined below:  (1) CircRNA read count in the tumour samples &gt; 5. (2) Higher expression in breast tumour samples than in the paired normal breast tissues  (log2fold change ³ 1).  (3) CircRNAs have conserved ORF and the length of ORF &lt; the length of circRNA. (4) The neo-peptides formed by the ORF of circRNAs were distinct from the linear counterparts (neo-ORF).\r\n",
       "3 The peptide intensities of HLA-I peptides determined by MS indicate the abundance of peptides presented on HLA-I.\r\n",
       "4 The MHC-I binding predictions were made using the IEDB analysis resource NetMHCpan (ver. 4.1) tool and the threshold for binding was set as rank &lt; 2% to include weak binders. | NA        | NA         | NA      |       NA | NA |\n",
       "\n"
      ],
      "text/plain": [
       "  Patient No.                                                                                                                                                                                                                                                                                                                                                                                                                                                                                                                                                                                                                                                                                                                                                                                                                                                                                                                                                    \n",
       "1 P12                                                                                                                                                                                                                                                                                                                                                                                                                                                                                                                                                                                                                                                                                                                                                                                                                                                                                                                                                            \n",
       "2 1 The peptide sequences detected in HLA-I peptidome, determined by HLA immunoprecipitation followed by mass spectrometry (MS).\\r\\n2 The MS results were matched with the circRNA profiles obtained from ribosomal RNA-depleted RNA-sequencing (rRNA-depleted-RNA-Seq), as defined below:  (1) CircRNA read count in the tumour samples > 5. (2) Higher expression in breast tumour samples than in the paired normal breast tissues  (log2fold change ³ 1).  (3) CircRNAs have conserved ORF and the length of ORF < the length of circRNA. (4) The neo-peptides formed by the ORF of circRNAs were distinct from the linear counterparts (neo-ORF).\\r\\n3 The peptide intensities of HLA-I peptides determined by MS indicate the abundance of peptides presented on HLA-I.\\r\\n4 The MHC-I binding predictions were made using the IEDB analysis resource NetMHCpan (ver. 4.1) tool and the threshold for binding was set as rank < 2% to include weak binders.\n",
       "  Sequence1 Source2    Gene type Peptide intensity3 Predicted percentile rank4\n",
       "1 RQIGSGAEK circPRRC2B circRNA   66511858            4                        \n",
       "2 NA        NA         NA              NA           NA                        "
      ]
     },
     "metadata": {},
     "output_type": "display_data"
    },
    {
     "data": {
      "text/html": [
       "<style>\n",
       ".list-inline {list-style: none; margin:0; padding: 0}\n",
       ".list-inline>li {display: inline-block}\n",
       ".list-inline>li:not(:last-child)::after {content: \"\\00b7\"; padding: 0 .5ex}\n",
       "</style>\n",
       "<ol class=list-inline><li>9</li><li>6</li></ol>\n"
      ],
      "text/latex": [
       "\\begin{enumerate*}\n",
       "\\item 9\n",
       "\\item 6\n",
       "\\end{enumerate*}\n"
      ],
      "text/markdown": [
       "1. 9\n",
       "2. 6\n",
       "\n",
       "\n"
      ],
      "text/plain": [
       "[1] 9 6"
      ]
     },
     "metadata": {},
     "output_type": "display_data"
    }
   ],
   "source": [
    "# cryptic peptides from rna-depleted rna-seq data\n",
    "cryptic_peptides <- read_excel('./data/in/cryptic_antigen.xlsx', trim_ws = T, skip = 1)\n",
    "head(cryptic_peptides, 2)\n",
    "tail(cryptic_peptides, 2)\n",
    "dim(cryptic_peptides)"
   ]
  },
  {
   "cell_type": "code",
   "execution_count": 20,
   "id": "ffc1263f-635c-413a-8e5c-5b93da8996b9",
   "metadata": {},
   "outputs": [
    {
     "data": {
      "text/html": [
       "<table class=\"dataframe\">\n",
       "<caption>A tibble: 2 × 6</caption>\n",
       "<thead>\n",
       "\t<tr><th scope=col>Patient No.</th><th scope=col>Sequence1</th><th scope=col>Source2</th><th scope=col>Gene type</th><th scope=col>Peptide intensity3</th><th scope=col>Predicted percentile rank4</th></tr>\n",
       "\t<tr><th scope=col>&lt;chr&gt;</th><th scope=col>&lt;chr&gt;</th><th scope=col>&lt;chr&gt;</th><th scope=col>&lt;chr&gt;</th><th scope=col>&lt;dbl&gt;</th><th scope=col>&lt;dbl&gt;</th></tr>\n",
       "</thead>\n",
       "<tbody>\n",
       "\t<tr><td>P1</td><td>RTAHYGTGR  </td><td>circFAM53B</td><td>circRNA</td><td>18200004.5</td><td>0.19</td></tr>\n",
       "\t<tr><td>P1</td><td>LSQNNFALGYK</td><td>circVDAC3 </td><td>circRNA</td><td>  721479.4</td><td>1.50</td></tr>\n",
       "</tbody>\n",
       "</table>\n"
      ],
      "text/latex": [
       "A tibble: 2 × 6\n",
       "\\begin{tabular}{llllll}\n",
       " Patient No. & Sequence1 & Source2 & Gene type & Peptide intensity3 & Predicted percentile rank4\\\\\n",
       " <chr> & <chr> & <chr> & <chr> & <dbl> & <dbl>\\\\\n",
       "\\hline\n",
       "\t P1 & RTAHYGTGR   & circFAM53B & circRNA & 18200004.5 & 0.19\\\\\n",
       "\t P1 & LSQNNFALGYK & circVDAC3  & circRNA &   721479.4 & 1.50\\\\\n",
       "\\end{tabular}\n"
      ],
      "text/markdown": [
       "\n",
       "A tibble: 2 × 6\n",
       "\n",
       "| Patient No. &lt;chr&gt; | Sequence1 &lt;chr&gt; | Source2 &lt;chr&gt; | Gene type &lt;chr&gt; | Peptide intensity3 &lt;dbl&gt; | Predicted percentile rank4 &lt;dbl&gt; |\n",
       "|---|---|---|---|---|---|\n",
       "| P1 | RTAHYGTGR   | circFAM53B | circRNA | 18200004.5 | 0.19 |\n",
       "| P1 | LSQNNFALGYK | circVDAC3  | circRNA |   721479.4 | 1.50 |\n",
       "\n"
      ],
      "text/plain": [
       "  Patient No. Sequence1   Source2    Gene type Peptide intensity3\n",
       "1 P1          RTAHYGTGR   circFAM53B circRNA   18200004.5        \n",
       "2 P1          LSQNNFALGYK circVDAC3  circRNA     721479.4        \n",
       "  Predicted percentile rank4\n",
       "1 0.19                      \n",
       "2 1.50                      "
      ]
     },
     "metadata": {},
     "output_type": "display_data"
    },
    {
     "data": {
      "text/html": [
       "<table class=\"dataframe\">\n",
       "<caption>A tibble: 2 × 6</caption>\n",
       "<thead>\n",
       "\t<tr><th scope=col>Patient No.</th><th scope=col>Sequence1</th><th scope=col>Source2</th><th scope=col>Gene type</th><th scope=col>Peptide intensity3</th><th scope=col>Predicted percentile rank4</th></tr>\n",
       "\t<tr><th scope=col>&lt;chr&gt;</th><th scope=col>&lt;chr&gt;</th><th scope=col>&lt;chr&gt;</th><th scope=col>&lt;chr&gt;</th><th scope=col>&lt;dbl&gt;</th><th scope=col>&lt;dbl&gt;</th></tr>\n",
       "</thead>\n",
       "<tbody>\n",
       "\t<tr><td>P11</td><td>IPVSQVNPRS</td><td>circCTTN  </td><td>circRNA</td><td>  596410.6</td><td>9.2</td></tr>\n",
       "\t<tr><td>P12</td><td>RQIGSGAEK </td><td>circPRRC2B</td><td>circRNA</td><td>66511858.3</td><td>4.0</td></tr>\n",
       "</tbody>\n",
       "</table>\n"
      ],
      "text/latex": [
       "A tibble: 2 × 6\n",
       "\\begin{tabular}{llllll}\n",
       " Patient No. & Sequence1 & Source2 & Gene type & Peptide intensity3 & Predicted percentile rank4\\\\\n",
       " <chr> & <chr> & <chr> & <chr> & <dbl> & <dbl>\\\\\n",
       "\\hline\n",
       "\t P11 & IPVSQVNPRS & circCTTN   & circRNA &   596410.6 & 9.2\\\\\n",
       "\t P12 & RQIGSGAEK  & circPRRC2B & circRNA & 66511858.3 & 4.0\\\\\n",
       "\\end{tabular}\n"
      ],
      "text/markdown": [
       "\n",
       "A tibble: 2 × 6\n",
       "\n",
       "| Patient No. &lt;chr&gt; | Sequence1 &lt;chr&gt; | Source2 &lt;chr&gt; | Gene type &lt;chr&gt; | Peptide intensity3 &lt;dbl&gt; | Predicted percentile rank4 &lt;dbl&gt; |\n",
       "|---|---|---|---|---|---|\n",
       "| P11 | IPVSQVNPRS | circCTTN   | circRNA |   596410.6 | 9.2 |\n",
       "| P12 | RQIGSGAEK  | circPRRC2B | circRNA | 66511858.3 | 4.0 |\n",
       "\n"
      ],
      "text/plain": [
       "  Patient No. Sequence1  Source2    Gene type Peptide intensity3\n",
       "1 P11         IPVSQVNPRS circCTTN   circRNA     596410.6        \n",
       "2 P12         RQIGSGAEK  circPRRC2B circRNA   66511858.3        \n",
       "  Predicted percentile rank4\n",
       "1 9.2                       \n",
       "2 4.0                       "
      ]
     },
     "metadata": {},
     "output_type": "display_data"
    }
   ],
   "source": [
    "cryptic_peptides <- cryptic_peptides[1:8, , drop = F]\n",
    "cryptic_peptides <- cryptic_peptides %>% fill('Patient No.', .direction = 'down')\n",
    "head(cryptic_peptides, 2)\n",
    "tail(cryptic_peptides, 2)"
   ]
  },
  {
   "cell_type": "code",
   "execution_count": 21,
   "id": "fd95f8a9-14fd-4659-9bf7-4b34e2eb87f3",
   "metadata": {},
   "outputs": [
    {
     "name": "stdout",
     "output_type": "stream",
     "text": [
      "List of 2\n",
      " $ canonical: tibble [240 × 6] (S3: tbl_df/tbl/data.frame)\n",
      "  ..$ Patient No.               : chr [1:240] \"P2\" \"P2\" \"P2\" \"P2\" ...\n",
      "  ..$ Sequence1                 : chr [1:240] \"LLEGEETR\" \"YEEEVLSR\" \"AQLQDLNDR\" \"FTVLTESAAK\" ...\n",
      "  ..$ Source2                   : chr [1:240] \"NEFL\" \"NEFL\" \"NEFL\" \"NEFL\" ...\n",
      "  ..$ Gene type3                : chr [1:240] \"mRNA\" \"mRNA\" \"mRNA\" \"mRNA\" ...\n",
      "  ..$ Peptide intensity4        : num [1:240] 1713819 490324 3245532 1095394 228702 ...\n",
      "  ..$ Predicted percentile rank5: num [1:240] 19 21 3.6 1.2 5.4 1.3 2.1 1.5 5.2 3.8 ...\n",
      " $ cryptic  : tibble [8 × 6] (S3: tbl_df/tbl/data.frame)\n",
      "  ..$ Patient No.               : chr [1:8] \"P1\" \"P1\" \"P1\" \"P3\" ...\n",
      "  ..$ Sequence1                 : chr [1:8] \"RTAHYGTGR\" \"LSQNNFALGYK\" \"GELLEAIKR\" \"KLDVTMEMGV\" ...\n",
      "  ..$ Source2                   : chr [1:8] \"circFAM53B\" \"circVDAC3\" \"circSOD2\" \"circITFG2\" ...\n",
      "  ..$ Gene type                 : chr [1:8] \"circRNA\" \"circRNA\" \"circRNA\" \"circRNA\" ...\n",
      "  ..$ Peptide intensity3        : num [1:8] 1.82e+07 7.21e+05 1.98e+06 8.60e+08 5.15e+07 ...\n",
      "  ..$ Predicted percentile rank4: num [1:8] 0.19 1.5 8.5 19 1.1 32 9.2 4\n"
     ]
    }
   ],
   "source": [
    "# saving them \n",
    "all_antigens <- list(canonical = canonical_antigens, cryptic = cryptic_peptides)\n",
    "glimpse(all_antigens)"
   ]
  },
  {
   "cell_type": "code",
   "execution_count": 22,
   "id": "4acc367f-6078-4809-a3ed-7f41eeb37f1e",
   "metadata": {},
   "outputs": [],
   "source": [
    "write.xlsx(all_antigens, file = './data/outs/all_antigens.xlsx')"
   ]
  },
  {
   "cell_type": "markdown",
   "id": "8ee1a8d8-3237-45ad-bb5a-b1869315eef0",
   "metadata": {},
   "source": [
    "# Writing"
   ]
  },
  {
   "cell_type": "code",
   "execution_count": 38,
   "id": "a43fc452-7b00-480b-87e5-9bd72ea8ed3c",
   "metadata": {},
   "outputs": [],
   "source": [
    "data('attitude', 'sleep', 'trees')"
   ]
  },
  {
   "cell_type": "code",
   "execution_count": 39,
   "id": "faf37484-d26d-480f-b889-8b575ad905c2",
   "metadata": {},
   "outputs": [],
   "source": [
    "all_data <- list(attitude = attitude, \n",
    "                student_slee = sleep,\n",
    "                volcano = trees)"
   ]
  },
  {
   "cell_type": "code",
   "execution_count": 40,
   "id": "55bfa6b2-71b2-46ae-91eb-42f5661ebe19",
   "metadata": {
    "scrolled": true
   },
   "outputs": [
    {
     "name": "stdout",
     "output_type": "stream",
     "text": [
      "List of 3\n",
      " $ attitude    :'data.frame':\t30 obs. of  7 variables:\n",
      "  ..$ rating    : num [1:30] 43 63 71 61 81 43 58 71 72 67 ...\n",
      "  ..$ complaints: num [1:30] 51 64 70 63 78 55 67 75 82 61 ...\n",
      "  ..$ privileges: num [1:30] 30 51 68 45 56 49 42 50 72 45 ...\n",
      "  ..$ learning  : num [1:30] 39 54 69 47 66 44 56 55 67 47 ...\n",
      "  ..$ raises    : num [1:30] 61 63 76 54 71 54 66 70 71 62 ...\n",
      "  ..$ critical  : num [1:30] 92 73 86 84 83 49 68 66 83 80 ...\n",
      "  ..$ advance   : num [1:30] 45 47 48 35 47 34 35 41 31 41 ...\n",
      " $ student_slee:'data.frame':\t20 obs. of  3 variables:\n",
      "  ..$ extra: num [1:20] 0.7 -1.6 -0.2 -1.2 -0.1 3.4 3.7 0.8 0 2 ...\n",
      "  ..$ group: Factor w/ 2 levels \"1\",\"2\": 1 1 1 1 1 1 1 1 1 1 ...\n",
      "  ..$ ID   : Factor w/ 10 levels \"1\",\"2\",\"3\",\"4\",..: 1 2 3 4 5 6 7 8 9 10 ...\n",
      " $ volcano     :'data.frame':\t31 obs. of  3 variables:\n",
      "  ..$ Girth : num [1:31] 8.3 8.6 8.8 10.5 10.7 10.8 11 11 11.1 11.2 ...\n",
      "  ..$ Height: num [1:31] 70 65 63 72 81 83 66 75 80 75 ...\n",
      "  ..$ Volume: num [1:31] 10.3 10.3 10.2 16.4 18.8 19.7 15.6 18.2 22.6 19.9 ...\n"
     ]
    }
   ],
   "source": [
    "library(dplyr)\n",
    "glimpse(all_data)"
   ]
  },
  {
   "cell_type": "code",
   "execution_count": 41,
   "id": "ca93486e-a0c1-4be8-84a5-8f04aad06f24",
   "metadata": {},
   "outputs": [],
   "source": [
    "write.xlsx(all_data, './data/outs/combined_atttitude_sleep_trees_rdata.xlsx')"
   ]
  },
  {
   "cell_type": "code",
   "execution_count": null,
   "id": "5ec1415c-7c62-439f-ba17-db65f2650630",
   "metadata": {},
   "outputs": [],
   "source": [
    "# create workbook # alternatively\n",
    "wb <- createWorkbook()\n",
    "addWorksheet(wb, 'Sheet1')\n",
    "addWorksheet(wb, 'Sheet2')\n",
    "# Write data to Sheet1\n",
    "writeData(wb, sheet = \"Sheet1\", x = data1)\n",
    "\n",
    "# Write data to Sheet2, starting at row 2, column 2\n",
    "writeData(wb, sheet = \"Sheet2\", x = data2, startRow = 2, startCol = 2)\n",
    "\n",
    "# save\n",
    "saveWorkbook(wb, \"my_excel_file.xlsx\", overwrite = TRUE)"
   ]
  },
  {
   "cell_type": "markdown",
   "id": "58591998-b01c-40cc-bb2c-6493347a1930",
   "metadata": {},
   "source": [
    "# reading an excel sheets with multiple tabs"
   ]
  },
  {
   "cell_type": "code",
   "execution_count": 28,
   "id": "7f894ad8-0ef5-4940-bf26-07274be31540",
   "metadata": {},
   "outputs": [
    {
     "data": {
      "text/html": [
       "<style>\n",
       ".list-inline {list-style: none; margin:0; padding: 0}\n",
       ".list-inline>li {display: inline-block}\n",
       ".list-inline>li:not(:last-child)::after {content: \"\\00b7\"; padding: 0 .5ex}\n",
       "</style>\n",
       "<ol class=list-inline><li>'canonical'</li><li>'cryptic'</li></ol>\n"
      ],
      "text/latex": [
       "\\begin{enumerate*}\n",
       "\\item 'canonical'\n",
       "\\item 'cryptic'\n",
       "\\end{enumerate*}\n"
      ],
      "text/markdown": [
       "1. 'canonical'\n",
       "2. 'cryptic'\n",
       "\n",
       "\n"
      ],
      "text/plain": [
       "[1] \"canonical\" \"cryptic\"  "
      ]
     },
     "metadata": {},
     "output_type": "display_data"
    }
   ],
   "source": [
    "sheet_names <- excel_sheets('./data/outs/all_antigens.xlsx')\n",
    "sheet_names"
   ]
  },
  {
   "cell_type": "code",
   "execution_count": 42,
   "id": "3e9d05a8-d697-46ed-bfe4-b84a4da5e4a1",
   "metadata": {},
   "outputs": [
    {
     "name": "stdout",
     "output_type": "stream",
     "text": [
      "List of 2\n",
      " $ canonical: tibble [240 × 6] (S3: tbl_df/tbl/data.frame)\n",
      "  ..$ Patient No.               : chr [1:240] \"P2\" \"P2\" \"P2\" \"P2\" ...\n",
      "  ..$ Sequence1                 : chr [1:240] \"LLEGEETR\" \"YEEEVLSR\" \"AQLQDLNDR\" \"FTVLTESAAK\" ...\n",
      "  ..$ Source2                   : chr [1:240] \"NEFL\" \"NEFL\" \"NEFL\" \"NEFL\" ...\n",
      "  ..$ Gene type3                : chr [1:240] \"mRNA\" \"mRNA\" \"mRNA\" \"mRNA\" ...\n",
      "  ..$ Peptide intensity4        : num [1:240] 1713819 490324 3245532 1095394 228702 ...\n",
      "  ..$ Predicted percentile rank5: num [1:240] 19 21 3.6 1.2 5.4 1.3 2.1 1.5 5.2 3.8 ...\n",
      " $ cryptic  : tibble [8 × 6] (S3: tbl_df/tbl/data.frame)\n",
      "  ..$ Patient No.               : chr [1:8] \"P1\" \"P1\" \"P1\" \"P3\" ...\n",
      "  ..$ Sequence1                 : chr [1:8] \"RTAHYGTGR\" \"LSQNNFALGYK\" \"GELLEAIKR\" \"KLDVTMEMGV\" ...\n",
      "  ..$ Source2                   : chr [1:8] \"circFAM53B\" \"circVDAC3\" \"circSOD2\" \"circITFG2\" ...\n",
      "  ..$ Gene type                 : chr [1:8] \"circRNA\" \"circRNA\" \"circRNA\" \"circRNA\" ...\n",
      "  ..$ Peptide intensity3        : num [1:8] 1.82e+07 7.21e+05 1.98e+06 8.60e+08 5.15e+07 ...\n",
      "  ..$ Predicted percentile rank4: num [1:8] 0.19 1.5 8.5 19 1.1 32 9.2 4\n"
     ]
    }
   ],
   "source": [
    "# creating a list of df\n",
    "\n",
    "loading_all_antigens <- setNames(lapply(X = sheet_names, FUN = function(sheet) {\n",
    "     read_excel(path = './data/outs/all_antigens.xlsx', sheet = sheet)\n",
    "}), sheet_names)\n",
    "glimpse(loading_all_antigens)"
   ]
  },
  {
   "cell_type": "code",
   "execution_count": 31,
   "id": "b8598803-d471-42ad-be1b-02e9f8e96980",
   "metadata": {},
   "outputs": [
    {
     "data": {
      "text/html": [
       "<table class=\"dataframe\">\n",
       "<caption>A tibble: 2 × 6</caption>\n",
       "<thead>\n",
       "\t<tr><th scope=col>Patient No.</th><th scope=col>Sequence1</th><th scope=col>Source2</th><th scope=col>Gene type</th><th scope=col>Peptide intensity3</th><th scope=col>Predicted percentile rank4</th></tr>\n",
       "\t<tr><th scope=col>&lt;chr&gt;</th><th scope=col>&lt;chr&gt;</th><th scope=col>&lt;chr&gt;</th><th scope=col>&lt;chr&gt;</th><th scope=col>&lt;dbl&gt;</th><th scope=col>&lt;dbl&gt;</th></tr>\n",
       "</thead>\n",
       "<tbody>\n",
       "\t<tr><td>P1</td><td>RTAHYGTGR  </td><td>circFAM53B</td><td>circRNA</td><td>18200004.5</td><td>0.19</td></tr>\n",
       "\t<tr><td>P1</td><td>LSQNNFALGYK</td><td>circVDAC3 </td><td>circRNA</td><td>  721479.4</td><td>1.50</td></tr>\n",
       "</tbody>\n",
       "</table>\n"
      ],
      "text/latex": [
       "A tibble: 2 × 6\n",
       "\\begin{tabular}{llllll}\n",
       " Patient No. & Sequence1 & Source2 & Gene type & Peptide intensity3 & Predicted percentile rank4\\\\\n",
       " <chr> & <chr> & <chr> & <chr> & <dbl> & <dbl>\\\\\n",
       "\\hline\n",
       "\t P1 & RTAHYGTGR   & circFAM53B & circRNA & 18200004.5 & 0.19\\\\\n",
       "\t P1 & LSQNNFALGYK & circVDAC3  & circRNA &   721479.4 & 1.50\\\\\n",
       "\\end{tabular}\n"
      ],
      "text/markdown": [
       "\n",
       "A tibble: 2 × 6\n",
       "\n",
       "| Patient No. &lt;chr&gt; | Sequence1 &lt;chr&gt; | Source2 &lt;chr&gt; | Gene type &lt;chr&gt; | Peptide intensity3 &lt;dbl&gt; | Predicted percentile rank4 &lt;dbl&gt; |\n",
       "|---|---|---|---|---|---|\n",
       "| P1 | RTAHYGTGR   | circFAM53B | circRNA | 18200004.5 | 0.19 |\n",
       "| P1 | LSQNNFALGYK | circVDAC3  | circRNA |   721479.4 | 1.50 |\n",
       "\n"
      ],
      "text/plain": [
       "  Patient No. Sequence1   Source2    Gene type Peptide intensity3\n",
       "1 P1          RTAHYGTGR   circFAM53B circRNA   18200004.5        \n",
       "2 P1          LSQNNFALGYK circVDAC3  circRNA     721479.4        \n",
       "  Predicted percentile rank4\n",
       "1 0.19                      \n",
       "2 1.50                      "
      ]
     },
     "metadata": {},
     "output_type": "display_data"
    }
   ],
   "source": [
    "cryptic_loading <- read_excel(path = './data/outs/all_antigens.xlsx', sheet = 'cryptic')\n",
    "head(cryptic_loading, 2)"
   ]
  },
  {
   "cell_type": "code",
   "execution_count": 44,
   "id": "9afe07c5-1cad-436c-a6ba-bb58901102bd",
   "metadata": {},
   "outputs": [
    {
     "data": {
      "text/html": [
       "<table class=\"dataframe\">\n",
       "<caption>A tibble: 2 × 6</caption>\n",
       "<thead>\n",
       "\t<tr><th scope=col>Patient No.</th><th scope=col>Sequence1</th><th scope=col>Source2</th><th scope=col>Gene type</th><th scope=col>Peptide intensity3</th><th scope=col>Predicted percentile rank4</th></tr>\n",
       "\t<tr><th scope=col>&lt;chr&gt;</th><th scope=col>&lt;chr&gt;</th><th scope=col>&lt;chr&gt;</th><th scope=col>&lt;chr&gt;</th><th scope=col>&lt;dbl&gt;</th><th scope=col>&lt;dbl&gt;</th></tr>\n",
       "</thead>\n",
       "<tbody>\n",
       "\t<tr><td>P1</td><td>RTAHYGTGR  </td><td>circFAM53B</td><td>circRNA</td><td>18200004.5</td><td>0.19</td></tr>\n",
       "\t<tr><td>P1</td><td>LSQNNFALGYK</td><td>circVDAC3 </td><td>circRNA</td><td>  721479.4</td><td>1.50</td></tr>\n",
       "</tbody>\n",
       "</table>\n"
      ],
      "text/latex": [
       "A tibble: 2 × 6\n",
       "\\begin{tabular}{llllll}\n",
       " Patient No. & Sequence1 & Source2 & Gene type & Peptide intensity3 & Predicted percentile rank4\\\\\n",
       " <chr> & <chr> & <chr> & <chr> & <dbl> & <dbl>\\\\\n",
       "\\hline\n",
       "\t P1 & RTAHYGTGR   & circFAM53B & circRNA & 18200004.5 & 0.19\\\\\n",
       "\t P1 & LSQNNFALGYK & circVDAC3  & circRNA &   721479.4 & 1.50\\\\\n",
       "\\end{tabular}\n"
      ],
      "text/markdown": [
       "\n",
       "A tibble: 2 × 6\n",
       "\n",
       "| Patient No. &lt;chr&gt; | Sequence1 &lt;chr&gt; | Source2 &lt;chr&gt; | Gene type &lt;chr&gt; | Peptide intensity3 &lt;dbl&gt; | Predicted percentile rank4 &lt;dbl&gt; |\n",
       "|---|---|---|---|---|---|\n",
       "| P1 | RTAHYGTGR   | circFAM53B | circRNA | 18200004.5 | 0.19 |\n",
       "| P1 | LSQNNFALGYK | circVDAC3  | circRNA |   721479.4 | 1.50 |\n",
       "\n"
      ],
      "text/plain": [
       "  Patient No. Sequence1   Source2    Gene type Peptide intensity3\n",
       "1 P1          RTAHYGTGR   circFAM53B circRNA   18200004.5        \n",
       "2 P1          LSQNNFALGYK circVDAC3  circRNA     721479.4        \n",
       "  Predicted percentile rank4\n",
       "1 0.19                      \n",
       "2 1.50                      "
      ]
     },
     "metadata": {},
     "output_type": "display_data"
    }
   ],
   "source": [
    "cryptic_loading <- loading_all_antigens$cryptic\n",
    "head(cryptic_loading, 2)"
   ]
  }
 ],
 "metadata": {
  "kernelspec": {
   "display_name": "spatial_r",
   "language": "R",
   "name": "spatial_r"
  },
  "language_info": {
   "codemirror_mode": "r",
   "file_extension": ".r",
   "mimetype": "text/x-r-source",
   "name": "R",
   "pygments_lexer": "r",
   "version": "4.4.1"
  }
 },
 "nbformat": 4,
 "nbformat_minor": 5
}
